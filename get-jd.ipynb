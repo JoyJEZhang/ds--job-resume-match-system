{
 "cells": [
  {
   "cell_type": "code",
   "execution_count": 1,
   "id": "5bf6e2f1",
   "metadata": {},
   "outputs": [
    {
     "ename": "ModuleNotFoundError",
     "evalue": "No module named 'selenium'",
     "output_type": "error",
     "traceback": [
      "\u001b[0;31m---------------------------------------------------------------------------\u001b[0m",
      "\u001b[0;31mModuleNotFoundError\u001b[0m                       Traceback (most recent call last)",
      "Cell \u001b[0;32mIn[1], line 1\u001b[0m\n\u001b[0;32m----> 1\u001b[0m \u001b[38;5;28;01mfrom\u001b[39;00m \u001b[38;5;21;01mselenium\u001b[39;00m \u001b[38;5;28;01mimport\u001b[39;00m webdriver\n\u001b[1;32m      2\u001b[0m \u001b[38;5;28;01mfrom\u001b[39;00m \u001b[38;5;21;01mselenium\u001b[39;00m\u001b[38;5;21;01m.\u001b[39;00m\u001b[38;5;21;01mwebdriver\u001b[39;00m\u001b[38;5;21;01m.\u001b[39;00m\u001b[38;5;21;01mchrome\u001b[39;00m\u001b[38;5;21;01m.\u001b[39;00m\u001b[38;5;21;01mservice\u001b[39;00m \u001b[38;5;28;01mimport\u001b[39;00m Service\n\u001b[1;32m      3\u001b[0m \u001b[38;5;28;01mfrom\u001b[39;00m \u001b[38;5;21;01mselenium\u001b[39;00m\u001b[38;5;21;01m.\u001b[39;00m\u001b[38;5;21;01mwebdriver\u001b[39;00m\u001b[38;5;21;01m.\u001b[39;00m\u001b[38;5;21;01mcommon\u001b[39;00m\u001b[38;5;21;01m.\u001b[39;00m\u001b[38;5;21;01mby\u001b[39;00m \u001b[38;5;28;01mimport\u001b[39;00m By\n",
      "\u001b[0;31mModuleNotFoundError\u001b[0m: No module named 'selenium'"
     ]
    }
   ],
   "source": [
    "from selenium import webdriver\n",
    "from selenium.webdriver.chrome.service import Service\n",
    "from selenium.webdriver.common.by import By\n",
    "from webdriver_manager.chrome import ChromeDriverManager\n",
    "from bs4 import BeautifulSoup\n",
    "import time\n",
    "import pandas as pd\n",
    "import re\n",
    "import random\n",
    "from tqdm import tqdm"
   ]
  },
  {
   "cell_type": "code",
   "execution_count": null,
   "id": "580f0129",
   "metadata": {},
   "outputs": [
    {
     "name": "stderr",
     "output_type": "stream",
     "text": [
      "processing::   0%|          | 0/6 [00:00<?, ?it/s]"
     ]
    },
    {
     "name": "stdout",
     "output_type": "stream",
     "text": [
      "Scraping JD for keyword: information-technology\n"
     ]
    }
   ],
   "source": [
    "# initialization\n",
    "def init_driver():\n",
    "    options = webdriver.ChromeOptions()\n",
    "    options.add_argument(\"--start-maximized\")\n",
    "    options.add_argument(\"--disable-blink-features=AutomationControlled\")\n",
    "    return webdriver.Chrome(service=Service(ChromeDriverManager().install()), options=options)\n",
    "\n",
    "# scrape JD from linkedin\n",
    "def scrape_jobs_for_keyword(keyword, num_jobs=5):\n",
    "    print(f\"Scraping JD for keyword: {keyword}\")\n",
    "    driver = init_driver()\n",
    "    base_url = f\"https://www.linkedin.com/jobs/search/?keywords={keyword.replace(' ', '%20')}\"\n",
    "    driver.get(base_url)\n",
    "    time.sleep(3)\n",
    "\n",
    "    job_data = []\n",
    "\n",
    "    while len(job_data) < num_jobs:\n",
    "        jobs = driver.find_elements(By.CLASS_NAME, 'base-search-card__info')\n",
    "\n",
    "        for job in jobs:\n",
    "            try:\n",
    "                job.click()\n",
    "                time.sleep(random.uniform(1, 3))\n",
    "                soup = BeautifulSoup(driver.page_source, 'html.parser')\n",
    "\n",
    "                title = soup.find(\"h2\", class_=\"topcard__title\").get_text(strip=True)\n",
    "                company = soup.find(\"a\", class_=\"topcard__org-name-link\").get_text(strip=True)\n",
    "                description = soup.find(\"div\", class_=\"show-more-less-html__markup\").get_text(strip=True)\n",
    "\n",
    "                job_data.append({\n",
    "                    \"keyword\": keyword,\n",
    "                    \"title\": title,\n",
    "                    \"company\": company,\n",
    "                    \"description\": description\n",
    "                })\n",
    "\n",
    "                if len(job_data) >= num_jobs:\n",
    "                    break\n",
    "            except:\n",
    "                continue\n",
    "\n",
    "        driver.execute_script(\"window.scrollTo(0, document.body.scrollHeight);\")\n",
    "        time.sleep(random.uniform(1.5, 2.5))\n",
    "\n",
    "    driver.quit()\n",
    "    return job_data\n",
    "\n",
    "\n",
    "def normalize_keyword(keyword):\n",
    "    keyword = keyword.lower()\n",
    "    keyword = re.sub(r'[\\s_/]+', '-', keyword)  \n",
    "    return keyword\n",
    "\n",
    "\n",
    "# main function\n",
    "if __name__ == \"__main__\":\n",
    "    keywords = ['INFORMATION-TECHNOLOGY',\n",
    "                'BUSINESS-DEVELOPMENT',\n",
    "                'FINANCE',\n",
    "                'ADVOCATE',\n",
    "                'ACCOUNTANT']\n",
    "\n",
    "    all_jobs = []\n",
    "    for kw in tqdm(keywords, desc=\"processing\"):\n",
    "        kw = normalize_keyword(kw)\n",
    "        jobs = scrape_jobs_for_keyword(kw, num_jobs=10)  \n",
    "        all_jobs.extend(jobs)\n",
    "        time.sleep(random.uniform(0.5, 1.5))\n",
    "\n",
    "    df_jobs = pd.DataFrame(all_jobs)\n",
    "    df_jobs.to_csv(\"top_JDs.csv\", index=False)\n",
    "    print(\"Saved JD data to top_JDs.csv\")\n"
   ]
  },
  {
   "cell_type": "code",
   "execution_count": null,
   "id": "b2524b29",
   "metadata": {},
   "outputs": [],
   "source": []
  }
 ],
 "metadata": {
  "kernelspec": {
   "display_name": "Python 3",
   "language": "python",
   "name": "python3"
  },
  "language_info": {
   "codemirror_mode": {
    "name": "ipython",
    "version": 3
   },
   "file_extension": ".py",
   "mimetype": "text/x-python",
   "name": "python",
   "nbconvert_exporter": "python",
   "pygments_lexer": "ipython3",
   "version": "3.9.6"
  }
 },
 "nbformat": 4,
 "nbformat_minor": 5
}
