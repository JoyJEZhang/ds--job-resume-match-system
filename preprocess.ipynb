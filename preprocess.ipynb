{
 "cells": [
  {
   "cell_type": "code",
   "execution_count": 1,
   "id": "2d1bc03f",
   "metadata": {},
   "outputs": [],
   "source": [
    "import pandas as pd"
   ]
  },
  {
   "cell_type": "markdown",
   "id": "712ec072",
   "metadata": {},
   "source": [
    "### Load Resume"
   ]
  },
  {
   "cell_type": "code",
   "execution_count": 4,
   "id": "fc2bac89",
   "metadata": {},
   "outputs": [
    {
     "data": {
      "text/plain": [
       "(2484, 4)"
      ]
     },
     "execution_count": 4,
     "metadata": {},
     "output_type": "execute_result"
    }
   ],
   "source": [
    "resume = pd.read_csv(\"Resume.csv\")\n",
    "resume.shape"
   ]
  },
  {
   "cell_type": "code",
   "execution_count": 5,
   "id": "a7787611",
   "metadata": {},
   "outputs": [
    {
     "data": {
      "text/html": [
       "<div>\n",
       "<style scoped>\n",
       "    .dataframe tbody tr th:only-of-type {\n",
       "        vertical-align: middle;\n",
       "    }\n",
       "\n",
       "    .dataframe tbody tr th {\n",
       "        vertical-align: top;\n",
       "    }\n",
       "\n",
       "    .dataframe thead th {\n",
       "        text-align: right;\n",
       "    }\n",
       "</style>\n",
       "<table border=\"1\" class=\"dataframe\">\n",
       "  <thead>\n",
       "    <tr style=\"text-align: right;\">\n",
       "      <th></th>\n",
       "      <th>ID</th>\n",
       "      <th>Resume_str</th>\n",
       "      <th>Resume_html</th>\n",
       "      <th>Category</th>\n",
       "    </tr>\n",
       "  </thead>\n",
       "  <tbody>\n",
       "    <tr>\n",
       "      <th>0</th>\n",
       "      <td>16852973</td>\n",
       "      <td>HR ADMINISTRATOR/MARKETING ASSOCIATE\\...</td>\n",
       "      <td>&lt;div class=\"fontsize fontface vmargins hmargin...</td>\n",
       "      <td>HR</td>\n",
       "    </tr>\n",
       "    <tr>\n",
       "      <th>1</th>\n",
       "      <td>22323967</td>\n",
       "      <td>HR SPECIALIST, US HR OPERATIONS      ...</td>\n",
       "      <td>&lt;div class=\"fontsize fontface vmargins hmargin...</td>\n",
       "      <td>HR</td>\n",
       "    </tr>\n",
       "    <tr>\n",
       "      <th>2</th>\n",
       "      <td>33176873</td>\n",
       "      <td>HR DIRECTOR       Summary      Over 2...</td>\n",
       "      <td>&lt;div class=\"fontsize fontface vmargins hmargin...</td>\n",
       "      <td>HR</td>\n",
       "    </tr>\n",
       "    <tr>\n",
       "      <th>3</th>\n",
       "      <td>27018550</td>\n",
       "      <td>HR SPECIALIST       Summary    Dedica...</td>\n",
       "      <td>&lt;div class=\"fontsize fontface vmargins hmargin...</td>\n",
       "      <td>HR</td>\n",
       "    </tr>\n",
       "    <tr>\n",
       "      <th>4</th>\n",
       "      <td>17812897</td>\n",
       "      <td>HR MANAGER         Skill Highlights  ...</td>\n",
       "      <td>&lt;div class=\"fontsize fontface vmargins hmargin...</td>\n",
       "      <td>HR</td>\n",
       "    </tr>\n",
       "  </tbody>\n",
       "</table>\n",
       "</div>"
      ],
      "text/plain": [
       "         ID                                         Resume_str  \\\n",
       "0  16852973           HR ADMINISTRATOR/MARKETING ASSOCIATE\\...   \n",
       "1  22323967           HR SPECIALIST, US HR OPERATIONS      ...   \n",
       "2  33176873           HR DIRECTOR       Summary      Over 2...   \n",
       "3  27018550           HR SPECIALIST       Summary    Dedica...   \n",
       "4  17812897           HR MANAGER         Skill Highlights  ...   \n",
       "\n",
       "                                         Resume_html Category  \n",
       "0  <div class=\"fontsize fontface vmargins hmargin...       HR  \n",
       "1  <div class=\"fontsize fontface vmargins hmargin...       HR  \n",
       "2  <div class=\"fontsize fontface vmargins hmargin...       HR  \n",
       "3  <div class=\"fontsize fontface vmargins hmargin...       HR  \n",
       "4  <div class=\"fontsize fontface vmargins hmargin...       HR  "
      ]
     },
     "execution_count": 5,
     "metadata": {},
     "output_type": "execute_result"
    }
   ],
   "source": [
    "resume.head()"
   ]
  },
  {
   "cell_type": "code",
   "execution_count": 6,
   "id": "fb9e431a",
   "metadata": {},
   "outputs": [
    {
     "data": {
      "text/plain": [
       "array(['HR', 'DESIGNER', 'INFORMATION-TECHNOLOGY', 'TEACHER', 'ADVOCATE',\n",
       "       'BUSINESS-DEVELOPMENT', 'HEALTHCARE', 'FITNESS', 'AGRICULTURE',\n",
       "       'BPO', 'SALES', 'CONSULTANT', 'DIGITAL-MEDIA', 'AUTOMOBILE',\n",
       "       'CHEF', 'FINANCE', 'APPAREL', 'ENGINEERING', 'ACCOUNTANT',\n",
       "       'CONSTRUCTION', 'PUBLIC-RELATIONS', 'BANKING', 'ARTS', 'AVIATION'],\n",
       "      dtype=object)"
      ]
     },
     "execution_count": 6,
     "metadata": {},
     "output_type": "execute_result"
    }
   ],
   "source": [
    "resume['Category'].unique()"
   ]
  },
  {
   "cell_type": "code",
   "execution_count": 7,
   "id": "ff9600d2",
   "metadata": {},
   "outputs": [
    {
     "data": {
      "text/plain": [
       "['INFORMATION-TECHNOLOGY',\n",
       " 'BUSINESS-DEVELOPMENT',\n",
       " 'FINANCE',\n",
       " 'ADVOCATE',\n",
       " 'ACCOUNTANT']"
      ]
     },
     "execution_count": 7,
     "metadata": {},
     "output_type": "execute_result"
    }
   ],
   "source": [
    "top_categories = resume['Category'].value_counts().head(5).index.tolist()\n",
    "top_categories"
   ]
  },
  {
   "cell_type": "code",
   "execution_count": 8,
   "id": "078c1a39",
   "metadata": {},
   "outputs": [
    {
     "data": {
      "text/plain": [
       "(594, 4)"
      ]
     },
     "execution_count": 8,
     "metadata": {},
     "output_type": "execute_result"
    }
   ],
   "source": [
    "selected_resume = resume[resume['Category'].isin(top_categories)]\n",
    "selected_resume.shape"
   ]
  },
  {
   "cell_type": "markdown",
   "id": "1bd90223",
   "metadata": {},
   "source": [
    "### Load JD"
   ]
  },
  {
   "cell_type": "code",
   "execution_count": 10,
   "id": "6158afa1",
   "metadata": {},
   "outputs": [],
   "source": [
    "jd = pd.read_csv(\"jd.csv\")"
   ]
  },
  {
   "cell_type": "code",
   "execution_count": 11,
   "id": "fd4c8a1c",
   "metadata": {},
   "outputs": [
    {
     "data": {
      "text/html": [
       "<div>\n",
       "<style scoped>\n",
       "    .dataframe tbody tr th:only-of-type {\n",
       "        vertical-align: middle;\n",
       "    }\n",
       "\n",
       "    .dataframe tbody tr th {\n",
       "        vertical-align: top;\n",
       "    }\n",
       "\n",
       "    .dataframe thead th {\n",
       "        text-align: right;\n",
       "    }\n",
       "</style>\n",
       "<table border=\"1\" class=\"dataframe\">\n",
       "  <thead>\n",
       "    <tr style=\"text-align: right;\">\n",
       "      <th></th>\n",
       "      <th>category</th>\n",
       "      <th>title</th>\n",
       "      <th>company</th>\n",
       "      <th>description</th>\n",
       "    </tr>\n",
       "  </thead>\n",
       "  <tbody>\n",
       "    <tr>\n",
       "      <th>0</th>\n",
       "      <td>information-technology</td>\n",
       "      <td>Systems Administrator</td>\n",
       "      <td>Delphon</td>\n",
       "      <td>About the job\\n\\n\\nWe are seeking a skilled Sy...</td>\n",
       "    </tr>\n",
       "    <tr>\n",
       "      <th>1</th>\n",
       "      <td>information-technology</td>\n",
       "      <td>Head of Digital Technology</td>\n",
       "      <td>Transcendental</td>\n",
       "      <td>About the job\\nTranscendental is looking for a...</td>\n",
       "    </tr>\n",
       "    <tr>\n",
       "      <th>2</th>\n",
       "      <td>information-technology</td>\n",
       "      <td>Information Technology Technian</td>\n",
       "      <td>Bishop-Wisecarver</td>\n",
       "      <td>About the job\\nAbout BW\\n\\nFor over 70 years, ...</td>\n",
       "    </tr>\n",
       "    <tr>\n",
       "      <th>3</th>\n",
       "      <td>information-technology</td>\n",
       "      <td>Information Technology Support Technian</td>\n",
       "      <td>Grassland Dairy Products</td>\n",
       "      <td>About the job\\nGrassland Dairy Products, Inc. ...</td>\n",
       "    </tr>\n",
       "    <tr>\n",
       "      <th>4</th>\n",
       "      <td>information-technology</td>\n",
       "      <td>Information Technology Intern</td>\n",
       "      <td>Newmark</td>\n",
       "      <td>About the job\\nJob Description\\n\\nOur customiz...</td>\n",
       "    </tr>\n",
       "  </tbody>\n",
       "</table>\n",
       "</div>"
      ],
      "text/plain": [
       "                 category                                    title  \\\n",
       "0  information-technology                    Systems Administrator   \n",
       "1  information-technology               Head of Digital Technology   \n",
       "2  information-technology          Information Technology Technian   \n",
       "3  information-technology  Information Technology Support Technian   \n",
       "4  information-technology            Information Technology Intern   \n",
       "\n",
       "                    company                                        description  \n",
       "0                   Delphon  About the job\\n\\n\\nWe are seeking a skilled Sy...  \n",
       "1            Transcendental  About the job\\nTranscendental is looking for a...  \n",
       "2         Bishop-Wisecarver  About the job\\nAbout BW\\n\\nFor over 70 years, ...  \n",
       "3  Grassland Dairy Products  About the job\\nGrassland Dairy Products, Inc. ...  \n",
       "4                   Newmark  About the job\\nJob Description\\n\\nOur customiz...  "
      ]
     },
     "execution_count": 11,
     "metadata": {},
     "output_type": "execute_result"
    }
   ],
   "source": [
    "jd.head()"
   ]
  },
  {
   "cell_type": "markdown",
   "id": "ba8a8149",
   "metadata": {},
   "source": [
    "### Preprocess - Resume"
   ]
  },
  {
   "cell_type": "code",
   "execution_count": 12,
   "id": "70818080",
   "metadata": {},
   "outputs": [
    {
     "name": "stderr",
     "output_type": "stream",
     "text": [
      "[nltk_data] Downloading package stopwords to /Users/yewei/nltk_data...\n",
      "[nltk_data]   Unzipping corpora/stopwords.zip.\n",
      "[nltk_data] Downloading package wordnet to /Users/yewei/nltk_data...\n",
      "[nltk_data]   Package wordnet is already up-to-date!\n",
      "/var/folders/ck/gfqchr397y114j5q99r_dw7r0000gn/T/ipykernel_57540/1563565867.py:19: SettingWithCopyWarning: \n",
      "A value is trying to be set on a copy of a slice from a DataFrame.\n",
      "Try using .loc[row_indexer,col_indexer] = value instead\n",
      "\n",
      "See the caveats in the documentation: https://pandas.pydata.org/pandas-docs/stable/user_guide/indexing.html#returning-a-view-versus-a-copy\n",
      "  selected_resume['clean_resume'] = selected_resume['Resume_str'].apply(clean_text)\n"
     ]
    }
   ],
   "source": [
    "import re\n",
    "import nltk\n",
    "from nltk.corpus import stopwords\n",
    "from nltk.stem import WordNetLemmatizer\n",
    "\n",
    "nltk.download('stopwords')\n",
    "nltk.download('wordnet')\n",
    "stop_words = set(stopwords.words('english'))\n",
    "lemmatizer = WordNetLemmatizer()\n",
    "\n",
    "def clean_text(text):\n",
    "    text = re.sub(r'<[^>]+>', '', text)       # Remove html\n",
    "    text = re.sub(r'[^a-zA-Z\\s]', '', text)   # Remove numbers and punctuation\n",
    "    text = text.lower()\n",
    "    tokens = text.split()\n",
    "    tokens = [lemmatizer.lemmatize(w) for w in tokens if w not in stop_words and len(w) > 2]\n",
    "    return ' '.join(tokens)\n",
    "\n",
    "selected_resume['clean_resume'] = selected_resume['Resume_str'].apply(clean_text)\n",
    "selected_resume = selected_resume[selected_resume['clean_resume'].str.len() > 50]  # remove resume that have short texts\n"
   ]
  },
  {
   "cell_type": "markdown",
   "id": "29e3f75f",
   "metadata": {},
   "source": [
    "### Preprocess - JD"
   ]
  },
  {
   "cell_type": "code",
   "execution_count": 13,
   "id": "7c1770ec",
   "metadata": {},
   "outputs": [],
   "source": [
    "jd['clean_jd'] = jd['description'].astype(str).apply(clean_text)\n",
    "\n",
    "jd = jd[jd['clean_jd'].str.len() > 50]\n"
   ]
  }
 ],
 "metadata": {
  "kernelspec": {
   "display_name": "base",
   "language": "python",
   "name": "python3"
  },
  "language_info": {
   "codemirror_mode": {
    "name": "ipython",
    "version": 3
   },
   "file_extension": ".py",
   "mimetype": "text/x-python",
   "name": "python",
   "nbconvert_exporter": "python",
   "pygments_lexer": "ipython3",
   "version": "3.11.4"
  }
 },
 "nbformat": 4,
 "nbformat_minor": 5
}
