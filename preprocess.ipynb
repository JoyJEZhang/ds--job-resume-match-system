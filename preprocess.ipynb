{
 "cells": [
  {
   "cell_type": "code",
   "execution_count": 1,
   "id": "2d1bc03f",
   "metadata": {},
   "outputs": [],
   "source": [
    "import pandas as pd"
   ]
  },
  {
   "cell_type": "markdown",
   "id": "712ec072",
   "metadata": {},
   "source": [
    "### Load Resume"
   ]
  },
  {
   "cell_type": "code",
   "execution_count": 2,
   "id": "fc2bac89",
   "metadata": {},
   "outputs": [
    {
     "data": {
      "text/plain": [
       "(2484, 4)"
      ]
     },
     "execution_count": 2,
     "metadata": {},
     "output_type": "execute_result"
    }
   ],
   "source": [
    "resume = pd.read_csv(\"Resume.csv\")\n",
    "resume.shape"
   ]
  },
  {
   "cell_type": "code",
   "execution_count": 3,
   "id": "a7787611",
   "metadata": {},
   "outputs": [
    {
     "data": {
      "text/html": [
       "<div>\n",
       "<style scoped>\n",
       "    .dataframe tbody tr th:only-of-type {\n",
       "        vertical-align: middle;\n",
       "    }\n",
       "\n",
       "    .dataframe tbody tr th {\n",
       "        vertical-align: top;\n",
       "    }\n",
       "\n",
       "    .dataframe thead th {\n",
       "        text-align: right;\n",
       "    }\n",
       "</style>\n",
       "<table border=\"1\" class=\"dataframe\">\n",
       "  <thead>\n",
       "    <tr style=\"text-align: right;\">\n",
       "      <th></th>\n",
       "      <th>ID</th>\n",
       "      <th>Resume_str</th>\n",
       "      <th>Resume_html</th>\n",
       "      <th>Category</th>\n",
       "    </tr>\n",
       "  </thead>\n",
       "  <tbody>\n",
       "    <tr>\n",
       "      <th>0</th>\n",
       "      <td>16852973</td>\n",
       "      <td>HR ADMINISTRATOR/MARKETING ASSOCIATE\\...</td>\n",
       "      <td>&lt;div class=\"fontsize fontface vmargins hmargin...</td>\n",
       "      <td>HR</td>\n",
       "    </tr>\n",
       "    <tr>\n",
       "      <th>1</th>\n",
       "      <td>22323967</td>\n",
       "      <td>HR SPECIALIST, US HR OPERATIONS      ...</td>\n",
       "      <td>&lt;div class=\"fontsize fontface vmargins hmargin...</td>\n",
       "      <td>HR</td>\n",
       "    </tr>\n",
       "    <tr>\n",
       "      <th>2</th>\n",
       "      <td>33176873</td>\n",
       "      <td>HR DIRECTOR       Summary      Over 2...</td>\n",
       "      <td>&lt;div class=\"fontsize fontface vmargins hmargin...</td>\n",
       "      <td>HR</td>\n",
       "    </tr>\n",
       "    <tr>\n",
       "      <th>3</th>\n",
       "      <td>27018550</td>\n",
       "      <td>HR SPECIALIST       Summary    Dedica...</td>\n",
       "      <td>&lt;div class=\"fontsize fontface vmargins hmargin...</td>\n",
       "      <td>HR</td>\n",
       "    </tr>\n",
       "    <tr>\n",
       "      <th>4</th>\n",
       "      <td>17812897</td>\n",
       "      <td>HR MANAGER         Skill Highlights  ...</td>\n",
       "      <td>&lt;div class=\"fontsize fontface vmargins hmargin...</td>\n",
       "      <td>HR</td>\n",
       "    </tr>\n",
       "  </tbody>\n",
       "</table>\n",
       "</div>"
      ],
      "text/plain": [
       "         ID                                         Resume_str  \\\n",
       "0  16852973           HR ADMINISTRATOR/MARKETING ASSOCIATE\\...   \n",
       "1  22323967           HR SPECIALIST, US HR OPERATIONS      ...   \n",
       "2  33176873           HR DIRECTOR       Summary      Over 2...   \n",
       "3  27018550           HR SPECIALIST       Summary    Dedica...   \n",
       "4  17812897           HR MANAGER         Skill Highlights  ...   \n",
       "\n",
       "                                         Resume_html Category  \n",
       "0  <div class=\"fontsize fontface vmargins hmargin...       HR  \n",
       "1  <div class=\"fontsize fontface vmargins hmargin...       HR  \n",
       "2  <div class=\"fontsize fontface vmargins hmargin...       HR  \n",
       "3  <div class=\"fontsize fontface vmargins hmargin...       HR  \n",
       "4  <div class=\"fontsize fontface vmargins hmargin...       HR  "
      ]
     },
     "execution_count": 3,
     "metadata": {},
     "output_type": "execute_result"
    }
   ],
   "source": [
    "resume.head()"
   ]
  },
  {
   "cell_type": "code",
   "execution_count": 4,
   "id": "fb9e431a",
   "metadata": {},
   "outputs": [
    {
     "data": {
      "text/plain": [
       "array(['HR', 'DESIGNER', 'INFORMATION-TECHNOLOGY', 'TEACHER', 'ADVOCATE',\n",
       "       'BUSINESS-DEVELOPMENT', 'HEALTHCARE', 'FITNESS', 'AGRICULTURE',\n",
       "       'BPO', 'SALES', 'CONSULTANT', 'DIGITAL-MEDIA', 'AUTOMOBILE',\n",
       "       'CHEF', 'FINANCE', 'APPAREL', 'ENGINEERING', 'ACCOUNTANT',\n",
       "       'CONSTRUCTION', 'PUBLIC-RELATIONS', 'BANKING', 'ARTS', 'AVIATION'],\n",
       "      dtype=object)"
      ]
     },
     "execution_count": 4,
     "metadata": {},
     "output_type": "execute_result"
    }
   ],
   "source": [
    "resume['Category'].unique()"
   ]
  },
  {
   "cell_type": "code",
   "execution_count": 5,
   "id": "ff9600d2",
   "metadata": {},
   "outputs": [
    {
     "data": {
      "text/plain": [
       "['INFORMATION-TECHNOLOGY',\n",
       " 'BUSINESS-DEVELOPMENT',\n",
       " 'FINANCE',\n",
       " 'ADVOCATE',\n",
       " 'ACCOUNTANT']"
      ]
     },
     "execution_count": 5,
     "metadata": {},
     "output_type": "execute_result"
    }
   ],
   "source": [
    "top_categories = resume['Category'].value_counts().head(5).index.tolist()\n",
    "top_categories"
   ]
  },
  {
   "cell_type": "code",
   "execution_count": 6,
   "id": "078c1a39",
   "metadata": {},
   "outputs": [
    {
     "data": {
      "text/plain": [
       "(594, 4)"
      ]
     },
     "execution_count": 6,
     "metadata": {},
     "output_type": "execute_result"
    }
   ],
   "source": [
    "selected_resume = resume[resume['Category'].isin(top_categories)]\n",
    "selected_resume.shape"
   ]
  },
  {
   "cell_type": "markdown",
   "id": "1bd90223",
   "metadata": {},
   "source": [
    "### Load JD"
   ]
  },
  {
   "cell_type": "code",
   "execution_count": 7,
   "id": "6158afa1",
   "metadata": {},
   "outputs": [],
   "source": [
    "jd = pd.read_csv(\"jd.csv\")"
   ]
  },
  {
   "cell_type": "code",
   "execution_count": 8,
   "id": "fd4c8a1c",
   "metadata": {},
   "outputs": [
    {
     "data": {
      "text/html": [
       "<div>\n",
       "<style scoped>\n",
       "    .dataframe tbody tr th:only-of-type {\n",
       "        vertical-align: middle;\n",
       "    }\n",
       "\n",
       "    .dataframe tbody tr th {\n",
       "        vertical-align: top;\n",
       "    }\n",
       "\n",
       "    .dataframe thead th {\n",
       "        text-align: right;\n",
       "    }\n",
       "</style>\n",
       "<table border=\"1\" class=\"dataframe\">\n",
       "  <thead>\n",
       "    <tr style=\"text-align: right;\">\n",
       "      <th></th>\n",
       "      <th>category</th>\n",
       "      <th>title</th>\n",
       "      <th>company</th>\n",
       "      <th>description</th>\n",
       "    </tr>\n",
       "  </thead>\n",
       "  <tbody>\n",
       "    <tr>\n",
       "      <th>0</th>\n",
       "      <td>information-technology</td>\n",
       "      <td>Systems Administrator</td>\n",
       "      <td>Delphon</td>\n",
       "      <td>About the job\\n\\n\\nWe are seeking a skilled Sy...</td>\n",
       "    </tr>\n",
       "    <tr>\n",
       "      <th>1</th>\n",
       "      <td>information-technology</td>\n",
       "      <td>Head of Digital Technology</td>\n",
       "      <td>Transcendental</td>\n",
       "      <td>About the job\\nTranscendental is looking for a...</td>\n",
       "    </tr>\n",
       "    <tr>\n",
       "      <th>2</th>\n",
       "      <td>information-technology</td>\n",
       "      <td>Information Technology Technian</td>\n",
       "      <td>Bishop-Wisecarver</td>\n",
       "      <td>About the job\\nAbout BW\\n\\nFor over 70 years, ...</td>\n",
       "    </tr>\n",
       "    <tr>\n",
       "      <th>3</th>\n",
       "      <td>information-technology</td>\n",
       "      <td>Information Technology Support Technian</td>\n",
       "      <td>Grassland Dairy Products</td>\n",
       "      <td>About the job\\nGrassland Dairy Products, Inc. ...</td>\n",
       "    </tr>\n",
       "    <tr>\n",
       "      <th>4</th>\n",
       "      <td>information-technology</td>\n",
       "      <td>Information Technology Intern</td>\n",
       "      <td>Newmark</td>\n",
       "      <td>About the job\\nJob Description\\n\\nOur customiz...</td>\n",
       "    </tr>\n",
       "  </tbody>\n",
       "</table>\n",
       "</div>"
      ],
      "text/plain": [
       "                 category                                    title  \\\n",
       "0  information-technology                    Systems Administrator   \n",
       "1  information-technology               Head of Digital Technology   \n",
       "2  information-technology          Information Technology Technian   \n",
       "3  information-technology  Information Technology Support Technian   \n",
       "4  information-technology            Information Technology Intern   \n",
       "\n",
       "                    company                                        description  \n",
       "0                   Delphon  About the job\\n\\n\\nWe are seeking a skilled Sy...  \n",
       "1            Transcendental  About the job\\nTranscendental is looking for a...  \n",
       "2         Bishop-Wisecarver  About the job\\nAbout BW\\n\\nFor over 70 years, ...  \n",
       "3  Grassland Dairy Products  About the job\\nGrassland Dairy Products, Inc. ...  \n",
       "4                   Newmark  About the job\\nJob Description\\n\\nOur customiz...  "
      ]
     },
     "execution_count": 8,
     "metadata": {},
     "output_type": "execute_result"
    }
   ],
   "source": [
    "jd.head()"
   ]
  },
  {
   "cell_type": "markdown",
   "id": "ba8a8149",
   "metadata": {},
   "source": [
    "### Preprocess - Resume"
   ]
  },
  {
   "cell_type": "code",
   "execution_count": 10,
   "id": "181744bd",
   "metadata": {},
   "outputs": [
    {
     "name": "stdout",
     "output_type": "stream",
     "text": [
      "Collecting nltk\n",
      "  Using cached nltk-3.9.1-py3-none-any.whl.metadata (2.9 kB)\n",
      "Collecting click (from nltk)\n",
      "  Using cached click-8.1.8-py3-none-any.whl.metadata (2.3 kB)\n",
      "Requirement already satisfied: joblib in /Users/yewei/anaconda3/envs/python310/lib/python3.10/site-packages (from nltk) (1.4.2)\n",
      "Collecting regex>=2021.8.3 (from nltk)\n",
      "  Downloading regex-2024.11.6-cp310-cp310-macosx_10_9_x86_64.whl.metadata (40 kB)\n",
      "Collecting tqdm (from nltk)\n",
      "  Using cached tqdm-4.67.1-py3-none-any.whl.metadata (57 kB)\n",
      "Using cached nltk-3.9.1-py3-none-any.whl (1.5 MB)\n",
      "Downloading regex-2024.11.6-cp310-cp310-macosx_10_9_x86_64.whl (287 kB)\n",
      "Using cached click-8.1.8-py3-none-any.whl (98 kB)\n",
      "Using cached tqdm-4.67.1-py3-none-any.whl (78 kB)\n",
      "Installing collected packages: tqdm, regex, click, nltk\n",
      "Successfully installed click-8.1.8 nltk-3.9.1 regex-2024.11.6 tqdm-4.67.1\n"
     ]
    }
   ],
   "source": [
    "!pip install nltk"
   ]
  },
  {
   "cell_type": "code",
   "execution_count": 11,
   "id": "70818080",
   "metadata": {},
   "outputs": [
    {
     "name": "stderr",
     "output_type": "stream",
     "text": [
      "[nltk_data] Downloading package stopwords to /Users/yewei/nltk_data...\n",
      "[nltk_data]   Package stopwords is already up-to-date!\n",
      "[nltk_data] Downloading package wordnet to /Users/yewei/nltk_data...\n",
      "[nltk_data]   Package wordnet is already up-to-date!\n",
      "/var/folders/ck/gfqchr397y114j5q99r_dw7r0000gn/T/ipykernel_79409/1563565867.py:19: SettingWithCopyWarning: \n",
      "A value is trying to be set on a copy of a slice from a DataFrame.\n",
      "Try using .loc[row_indexer,col_indexer] = value instead\n",
      "\n",
      "See the caveats in the documentation: https://pandas.pydata.org/pandas-docs/stable/user_guide/indexing.html#returning-a-view-versus-a-copy\n",
      "  selected_resume['clean_resume'] = selected_resume['Resume_str'].apply(clean_text)\n"
     ]
    }
   ],
   "source": [
    "import re\n",
    "import nltk\n",
    "from nltk.corpus import stopwords\n",
    "from nltk.stem import WordNetLemmatizer\n",
    "\n",
    "nltk.download('stopwords')\n",
    "nltk.download('wordnet')\n",
    "stop_words = set(stopwords.words('english'))\n",
    "lemmatizer = WordNetLemmatizer()\n",
    "\n",
    "def clean_text(text):\n",
    "    text = re.sub(r'<[^>]+>', '', text)       # Remove html\n",
    "    text = re.sub(r'[^a-zA-Z\\s]', '', text)   # Remove numbers and punctuation\n",
    "    text = text.lower()\n",
    "    tokens = text.split()\n",
    "    tokens = [lemmatizer.lemmatize(w) for w in tokens if w not in stop_words and len(w) > 2]\n",
    "    return ' '.join(tokens)\n",
    "\n",
    "selected_resume['clean_resume'] = selected_resume['Resume_str'].apply(clean_text)\n",
    "selected_resume = selected_resume[selected_resume['clean_resume'].str.len() > 50]  # remove resume that have short texts\n"
   ]
  },
  {
   "cell_type": "markdown",
   "id": "29e3f75f",
   "metadata": {},
   "source": [
    "### Preprocess - JD"
   ]
  },
  {
   "cell_type": "code",
   "execution_count": 12,
   "id": "7c1770ec",
   "metadata": {},
   "outputs": [],
   "source": [
    "jd['clean_jd'] = jd['description'].astype(str).apply(clean_text)\n",
    "\n",
    "jd = jd[jd['clean_jd'].str.len() > 50]\n"
   ]
  },
  {
   "cell_type": "markdown",
   "id": "91cf8a62",
   "metadata": {},
   "source": [
    "# Resume Categorization"
   ]
  },
  {
   "cell_type": "code",
   "execution_count": 13,
   "id": "5b3be298",
   "metadata": {},
   "outputs": [],
   "source": [
    "from sklearn.feature_extraction.text import TfidfVectorizer"
   ]
  },
  {
   "cell_type": "code",
   "execution_count": 14,
   "id": "80903a51",
   "metadata": {},
   "outputs": [
    {
     "data": {
      "text/plain": [
       "(593, 5)"
      ]
     },
     "execution_count": 14,
     "metadata": {},
     "output_type": "execute_result"
    }
   ],
   "source": [
    "selected_resume.shape"
   ]
  },
  {
   "cell_type": "code",
   "execution_count": 15,
   "id": "a3c9ba0c",
   "metadata": {},
   "outputs": [
    {
     "data": {
      "text/html": [
       "<div>\n",
       "<style scoped>\n",
       "    .dataframe tbody tr th:only-of-type {\n",
       "        vertical-align: middle;\n",
       "    }\n",
       "\n",
       "    .dataframe tbody tr th {\n",
       "        vertical-align: top;\n",
       "    }\n",
       "\n",
       "    .dataframe thead th {\n",
       "        text-align: right;\n",
       "    }\n",
       "</style>\n",
       "<table border=\"1\" class=\"dataframe\">\n",
       "  <thead>\n",
       "    <tr style=\"text-align: right;\">\n",
       "      <th></th>\n",
       "      <th>ID</th>\n",
       "      <th>Resume_str</th>\n",
       "      <th>Resume_html</th>\n",
       "      <th>Category</th>\n",
       "      <th>clean_resume</th>\n",
       "    </tr>\n",
       "  </thead>\n",
       "  <tbody>\n",
       "    <tr>\n",
       "      <th>217</th>\n",
       "      <td>36856210</td>\n",
       "      <td>INFORMATION TECHNOLOGY         Summar...</td>\n",
       "      <td>&lt;div class=\"fontsize fontface vmargins hmargin...</td>\n",
       "      <td>INFORMATION-TECHNOLOGY</td>\n",
       "      <td>information technology summary dedicated infor...</td>\n",
       "    </tr>\n",
       "    <tr>\n",
       "      <th>218</th>\n",
       "      <td>21780877</td>\n",
       "      <td>INFORMATION TECHNOLOGY SPECIALIST\\tGS...</td>\n",
       "      <td>&lt;div class=\"fontsize fontface vmargins hmargin...</td>\n",
       "      <td>INFORMATION-TECHNOLOGY</td>\n",
       "      <td>information technology specialist experience c...</td>\n",
       "    </tr>\n",
       "    <tr>\n",
       "      <th>219</th>\n",
       "      <td>33241454</td>\n",
       "      <td>INFORMATION TECHNOLOGY SUPERVISOR    ...</td>\n",
       "      <td>&lt;div class=\"fontsize fontface vmargins hmargin...</td>\n",
       "      <td>INFORMATION-TECHNOLOGY</td>\n",
       "      <td>information technology supervisor summary seek...</td>\n",
       "    </tr>\n",
       "    <tr>\n",
       "      <th>220</th>\n",
       "      <td>25990239</td>\n",
       "      <td>INFORMATION TECHNOLOGY INSTRUCTOR    ...</td>\n",
       "      <td>&lt;div class=\"fontsize fontface vmargins hmargin...</td>\n",
       "      <td>INFORMATION-TECHNOLOGY</td>\n",
       "      <td>information technology instructor summary seve...</td>\n",
       "    </tr>\n",
       "    <tr>\n",
       "      <th>221</th>\n",
       "      <td>16899268</td>\n",
       "      <td>INFORMATION TECHNOLOGY MANAGER/ANALYS...</td>\n",
       "      <td>&lt;div class=\"fontsize fontface vmargins hmargin...</td>\n",
       "      <td>INFORMATION-TECHNOLOGY</td>\n",
       "      <td>information technology manageranalyst professi...</td>\n",
       "    </tr>\n",
       "  </tbody>\n",
       "</table>\n",
       "</div>"
      ],
      "text/plain": [
       "           ID                                         Resume_str  \\\n",
       "217  36856210           INFORMATION TECHNOLOGY         Summar...   \n",
       "218  21780877           INFORMATION TECHNOLOGY SPECIALIST\\tGS...   \n",
       "219  33241454           INFORMATION TECHNOLOGY SUPERVISOR    ...   \n",
       "220  25990239           INFORMATION TECHNOLOGY INSTRUCTOR    ...   \n",
       "221  16899268           INFORMATION TECHNOLOGY MANAGER/ANALYS...   \n",
       "\n",
       "                                           Resume_html  \\\n",
       "217  <div class=\"fontsize fontface vmargins hmargin...   \n",
       "218  <div class=\"fontsize fontface vmargins hmargin...   \n",
       "219  <div class=\"fontsize fontface vmargins hmargin...   \n",
       "220  <div class=\"fontsize fontface vmargins hmargin...   \n",
       "221  <div class=\"fontsize fontface vmargins hmargin...   \n",
       "\n",
       "                   Category                                       clean_resume  \n",
       "217  INFORMATION-TECHNOLOGY  information technology summary dedicated infor...  \n",
       "218  INFORMATION-TECHNOLOGY  information technology specialist experience c...  \n",
       "219  INFORMATION-TECHNOLOGY  information technology supervisor summary seek...  \n",
       "220  INFORMATION-TECHNOLOGY  information technology instructor summary seve...  \n",
       "221  INFORMATION-TECHNOLOGY  information technology manageranalyst professi...  "
      ]
     },
     "execution_count": 15,
     "metadata": {},
     "output_type": "execute_result"
    }
   ],
   "source": [
    "selected_resume.head(5)"
   ]
  },
  {
   "cell_type": "code",
   "execution_count": 15,
   "id": "079af828",
   "metadata": {},
   "outputs": [
    {
     "data": {
      "text/html": [
       "<div>\n",
       "<style scoped>\n",
       "    .dataframe tbody tr th:only-of-type {\n",
       "        vertical-align: middle;\n",
       "    }\n",
       "\n",
       "    .dataframe tbody tr th {\n",
       "        vertical-align: top;\n",
       "    }\n",
       "\n",
       "    .dataframe thead th {\n",
       "        text-align: right;\n",
       "    }\n",
       "</style>\n",
       "<table border=\"1\" class=\"dataframe\">\n",
       "  <thead>\n",
       "    <tr style=\"text-align: right;\">\n",
       "      <th></th>\n",
       "      <th>category</th>\n",
       "      <th>title</th>\n",
       "      <th>company</th>\n",
       "      <th>description</th>\n",
       "      <th>clean_jd</th>\n",
       "    </tr>\n",
       "  </thead>\n",
       "  <tbody>\n",
       "    <tr>\n",
       "      <th>0</th>\n",
       "      <td>information-technology</td>\n",
       "      <td>Systems Administrator</td>\n",
       "      <td>Delphon</td>\n",
       "      <td>About the job\\n\\n\\nWe are seeking a skilled Sy...</td>\n",
       "      <td>job seeking skilled system administrator join ...</td>\n",
       "    </tr>\n",
       "    <tr>\n",
       "      <th>1</th>\n",
       "      <td>information-technology</td>\n",
       "      <td>Head of Digital Technology</td>\n",
       "      <td>Transcendental</td>\n",
       "      <td>About the job\\nTranscendental is looking for a...</td>\n",
       "      <td>job transcendental looking highly motivated he...</td>\n",
       "    </tr>\n",
       "    <tr>\n",
       "      <th>2</th>\n",
       "      <td>information-technology</td>\n",
       "      <td>Information Technology Technian</td>\n",
       "      <td>Bishop-Wisecarver</td>\n",
       "      <td>About the job\\nAbout BW\\n\\nFor over 70 years, ...</td>\n",
       "      <td>job year bishopwisecarver wbenc certified woma...</td>\n",
       "    </tr>\n",
       "    <tr>\n",
       "      <th>3</th>\n",
       "      <td>information-technology</td>\n",
       "      <td>Information Technology Support Technian</td>\n",
       "      <td>Grassland Dairy Products</td>\n",
       "      <td>About the job\\nGrassland Dairy Products, Inc. ...</td>\n",
       "      <td>job grassland dairy product inc seeking enthus...</td>\n",
       "    </tr>\n",
       "    <tr>\n",
       "      <th>4</th>\n",
       "      <td>information-technology</td>\n",
       "      <td>Information Technology Intern</td>\n",
       "      <td>Newmark</td>\n",
       "      <td>About the job\\nJob Description\\n\\nOur customiz...</td>\n",
       "      <td>job job description customized week program de...</td>\n",
       "    </tr>\n",
       "  </tbody>\n",
       "</table>\n",
       "</div>"
      ],
      "text/plain": [
       "                 category                                    title  \\\n",
       "0  information-technology                    Systems Administrator   \n",
       "1  information-technology               Head of Digital Technology   \n",
       "2  information-technology          Information Technology Technian   \n",
       "3  information-technology  Information Technology Support Technian   \n",
       "4  information-technology            Information Technology Intern   \n",
       "\n",
       "                    company  \\\n",
       "0                   Delphon   \n",
       "1            Transcendental   \n",
       "2         Bishop-Wisecarver   \n",
       "3  Grassland Dairy Products   \n",
       "4                   Newmark   \n",
       "\n",
       "                                         description  \\\n",
       "0  About the job\\n\\n\\nWe are seeking a skilled Sy...   \n",
       "1  About the job\\nTranscendental is looking for a...   \n",
       "2  About the job\\nAbout BW\\n\\nFor over 70 years, ...   \n",
       "3  About the job\\nGrassland Dairy Products, Inc. ...   \n",
       "4  About the job\\nJob Description\\n\\nOur customiz...   \n",
       "\n",
       "                                            clean_jd  \n",
       "0  job seeking skilled system administrator join ...  \n",
       "1  job transcendental looking highly motivated he...  \n",
       "2  job year bishopwisecarver wbenc certified woma...  \n",
       "3  job grassland dairy product inc seeking enthus...  \n",
       "4  job job description customized week program de...  "
      ]
     },
     "execution_count": 15,
     "metadata": {},
     "output_type": "execute_result"
    }
   ],
   "source": [
    "jd.head(5)"
   ]
  },
  {
   "cell_type": "markdown",
   "id": "b44763ee",
   "metadata": {},
   "source": [
    "### Generate category keywords based on job description dataset."
   ]
  },
  {
   "cell_type": "code",
   "execution_count": 16,
   "id": "8c8e50b5",
   "metadata": {},
   "outputs": [
    {
     "name": "stdout",
     "output_type": "stream",
     "text": [
      "Requirement already satisfied: pandas in /Users/yewei/anaconda3/envs/python310/lib/python3.10/site-packages (2.2.3)\n",
      "Requirement already satisfied: numpy in /Users/yewei/anaconda3/envs/python310/lib/python3.10/site-packages (1.26.4)\n",
      "Collecting sentence-transformers\n",
      "  Using cached sentence_transformers-4.1.0-py3-none-any.whl.metadata (13 kB)\n",
      "Requirement already satisfied: scikit-learn in /Users/yewei/anaconda3/envs/python310/lib/python3.10/site-packages (1.6.0)\n",
      "Requirement already satisfied: tqdm in /Users/yewei/anaconda3/envs/python310/lib/python3.10/site-packages (4.67.1)\n",
      "Requirement already satisfied: python-dateutil>=2.8.2 in /Users/yewei/anaconda3/envs/python310/lib/python3.10/site-packages (from pandas) (2.9.0.post0)\n",
      "Requirement already satisfied: pytz>=2020.1 in /Users/yewei/anaconda3/envs/python310/lib/python3.10/site-packages (from pandas) (2024.1)\n",
      "Requirement already satisfied: tzdata>=2022.7 in /Users/yewei/anaconda3/envs/python310/lib/python3.10/site-packages (from pandas) (2024.2)\n",
      "Collecting transformers<5.0.0,>=4.41.0 (from sentence-transformers)\n",
      "  Using cached transformers-4.51.3-py3-none-any.whl.metadata (38 kB)\n",
      "Requirement already satisfied: torch>=1.11.0 in /Users/yewei/anaconda3/envs/python310/lib/python3.10/site-packages (from sentence-transformers) (2.2.2)\n",
      "Requirement already satisfied: scipy in /Users/yewei/anaconda3/envs/python310/lib/python3.10/site-packages (from sentence-transformers) (1.10.0)\n",
      "Collecting huggingface-hub>=0.20.0 (from sentence-transformers)\n",
      "  Using cached huggingface_hub-0.30.2-py3-none-any.whl.metadata (13 kB)\n",
      "Requirement already satisfied: Pillow in /Users/yewei/anaconda3/envs/python310/lib/python3.10/site-packages (from sentence-transformers) (11.0.0)\n",
      "Requirement already satisfied: typing_extensions>=4.5.0 in /Users/yewei/anaconda3/envs/python310/lib/python3.10/site-packages (from sentence-transformers) (4.11.0)\n",
      "Requirement already satisfied: joblib>=1.2.0 in /Users/yewei/anaconda3/envs/python310/lib/python3.10/site-packages (from scikit-learn) (1.4.2)\n",
      "Requirement already satisfied: threadpoolctl>=3.1.0 in /Users/yewei/anaconda3/envs/python310/lib/python3.10/site-packages (from scikit-learn) (3.5.0)\n",
      "Requirement already satisfied: filelock in /Users/yewei/anaconda3/envs/python310/lib/python3.10/site-packages (from huggingface-hub>=0.20.0->sentence-transformers) (3.16.1)\n",
      "Requirement already satisfied: fsspec>=2023.5.0 in /Users/yewei/anaconda3/envs/python310/lib/python3.10/site-packages (from huggingface-hub>=0.20.0->sentence-transformers) (2024.10.0)\n",
      "Requirement already satisfied: packaging>=20.9 in /Users/yewei/anaconda3/envs/python310/lib/python3.10/site-packages (from huggingface-hub>=0.20.0->sentence-transformers) (24.1)\n",
      "Requirement already satisfied: pyyaml>=5.1 in /Users/yewei/anaconda3/envs/python310/lib/python3.10/site-packages (from huggingface-hub>=0.20.0->sentence-transformers) (6.0.2)\n",
      "Requirement already satisfied: requests in /Users/yewei/anaconda3/envs/python310/lib/python3.10/site-packages (from huggingface-hub>=0.20.0->sentence-transformers) (2.32.3)\n",
      "Requirement already satisfied: six>=1.5 in /Users/yewei/anaconda3/envs/python310/lib/python3.10/site-packages (from python-dateutil>=2.8.2->pandas) (1.16.0)\n",
      "Requirement already satisfied: sympy in /Users/yewei/anaconda3/envs/python310/lib/python3.10/site-packages (from torch>=1.11.0->sentence-transformers) (1.13.3)\n",
      "Requirement already satisfied: networkx in /Users/yewei/anaconda3/envs/python310/lib/python3.10/site-packages (from torch>=1.11.0->sentence-transformers) (3.4.2)\n",
      "Requirement already satisfied: jinja2 in /Users/yewei/anaconda3/envs/python310/lib/python3.10/site-packages (from torch>=1.11.0->sentence-transformers) (3.1.4)\n",
      "Requirement already satisfied: regex!=2019.12.17 in /Users/yewei/anaconda3/envs/python310/lib/python3.10/site-packages (from transformers<5.0.0,>=4.41.0->sentence-transformers) (2024.11.6)\n",
      "Collecting tokenizers<0.22,>=0.21 (from transformers<5.0.0,>=4.41.0->sentence-transformers)\n",
      "  Using cached tokenizers-0.21.1-cp39-abi3-macosx_10_12_x86_64.whl.metadata (6.8 kB)\n",
      "Collecting safetensors>=0.4.3 (from transformers<5.0.0,>=4.41.0->sentence-transformers)\n",
      "  Using cached safetensors-0.5.3-cp38-abi3-macosx_10_12_x86_64.whl.metadata (3.8 kB)\n",
      "Requirement already satisfied: MarkupSafe>=2.0 in /Users/yewei/anaconda3/envs/python310/lib/python3.10/site-packages (from jinja2->torch>=1.11.0->sentence-transformers) (2.1.3)\n",
      "Requirement already satisfied: charset-normalizer<4,>=2 in /Users/yewei/anaconda3/envs/python310/lib/python3.10/site-packages (from requests->huggingface-hub>=0.20.0->sentence-transformers) (3.3.2)\n",
      "Requirement already satisfied: idna<4,>=2.5 in /Users/yewei/anaconda3/envs/python310/lib/python3.10/site-packages (from requests->huggingface-hub>=0.20.0->sentence-transformers) (3.7)\n",
      "Requirement already satisfied: urllib3<3,>=1.21.1 in /Users/yewei/anaconda3/envs/python310/lib/python3.10/site-packages (from requests->huggingface-hub>=0.20.0->sentence-transformers) (2.2.3)\n",
      "Requirement already satisfied: certifi>=2017.4.17 in /Users/yewei/anaconda3/envs/python310/lib/python3.10/site-packages (from requests->huggingface-hub>=0.20.0->sentence-transformers) (2024.8.30)\n",
      "Requirement already satisfied: mpmath<1.4,>=1.1.0 in /Users/yewei/anaconda3/envs/python310/lib/python3.10/site-packages (from sympy->torch>=1.11.0->sentence-transformers) (1.3.0)\n",
      "Using cached sentence_transformers-4.1.0-py3-none-any.whl (345 kB)\n",
      "Using cached huggingface_hub-0.30.2-py3-none-any.whl (481 kB)\n",
      "Using cached transformers-4.51.3-py3-none-any.whl (10.4 MB)\n",
      "Using cached safetensors-0.5.3-cp38-abi3-macosx_10_12_x86_64.whl (436 kB)\n",
      "Using cached tokenizers-0.21.1-cp39-abi3-macosx_10_12_x86_64.whl (2.8 MB)\n",
      "Installing collected packages: safetensors, huggingface-hub, tokenizers, transformers, sentence-transformers\n",
      "Successfully installed huggingface-hub-0.30.2 safetensors-0.5.3 sentence-transformers-4.1.0 tokenizers-0.21.1 transformers-4.51.3\n"
     ]
    }
   ],
   "source": [
    "!pip install pandas numpy sentence-transformers scikit-learn tqdm"
   ]
  },
  {
   "cell_type": "code",
   "execution_count": 17,
   "id": "213114c2",
   "metadata": {},
   "outputs": [],
   "source": [
    "jd_df = jd.copy()\n",
    "resume_df = selected_resume.copy()\n",
    "resume_df['Category'] = resume_df['Category'].str.lower().str.strip()\n",
    "jd_df['category'] = jd_df['category'].str.lower().str.strip()"
   ]
  },
  {
   "cell_type": "code",
   "execution_count": 18,
   "id": "36dd2db3",
   "metadata": {},
   "outputs": [
    {
     "name": "stderr",
     "output_type": "stream",
     "text": [
      "100%|██████████| 593/593 [04:56<00:00,  2.00it/s]\n"
     ]
    },
    {
     "name": "stdout",
     "output_type": "stream",
     "text": [
      "         ID                Category  Final_Score    Label\n",
      "0  36856210  information-technology     0.784677     good\n",
      "1  21780877  information-technology     0.726071  average\n",
      "2  33241454  information-technology     0.712692  average\n",
      "3  25990239  information-technology     0.471942      bad\n",
      "4  16899268  information-technology     0.659699  average\n"
     ]
    }
   ],
   "source": [
    "import pandas as pd\n",
    "import numpy as np\n",
    "from sentence_transformers import SentenceTransformer, util\n",
    "from sklearn.preprocessing import MinMaxScaler\n",
    "from sklearn.feature_extraction.text import CountVectorizer\n",
    "from tqdm import tqdm\n",
    "\n",
    "# Sample format assumption\n",
    "# resume_df.columns = ['ID', 'Resume_str', 'Resume_html', 'Category', 'clean_resume']\n",
    "# jd_df.columns = ['category', 'title', 'company', 'description', 'clean_jd']\n",
    "\n",
    "# Initialize the SentenceTransformer model\n",
    "model = SentenceTransformer('all-MiniLM-L6-v2')  # Lightweight and fast\n",
    "\n",
    "# Step 1: Generate keywords dynamically per category using JDs\n",
    "def extract_top_keywords(jd_texts, top_n=20):\n",
    "    vectorizer = CountVectorizer(stop_words='english', max_features=top_n)\n",
    "    X = vectorizer.fit_transform(jd_texts)\n",
    "    keywords = vectorizer.get_feature_names_out()\n",
    "    return list(keywords)\n",
    "\n",
    "# Create a dictionary: {category -> [top keywords]}\n",
    "category_keywords = {}\n",
    "for category in jd_df['category'].unique():\n",
    "    jd_texts = jd_df[jd_df['category'] == category]['clean_jd'].tolist()\n",
    "    if jd_texts:\n",
    "        keywords = extract_top_keywords(jd_texts, top_n=30)\n",
    "        category_keywords[category] = keywords\n",
    "\n",
    "# Step 2: Compute semantic similarity + keyword matching\n",
    "def compute_semantic_similarity(resume_text, jd_texts):\n",
    "    resume_embedding = model.encode(resume_text, convert_to_tensor=True)\n",
    "    jd_embeddings = model.encode(jd_texts, convert_to_tensor=True)\n",
    "    scores = util.cos_sim(resume_embedding, jd_embeddings)[0]\n",
    "    return float(scores.max()), float(scores.mean())\n",
    "\n",
    "def compute_keyword_score(resume_text, keyword_list):\n",
    "    resume_text_lower = resume_text.lower()\n",
    "    matched = [kw for kw in keyword_list if kw.lower() in resume_text_lower]\n",
    "    return len(matched) / len(keyword_list) if keyword_list else 0\n",
    "\n",
    "# Step 3: Resume-JD scoring loop\n",
    "results = []\n",
    "\n",
    "for idx, row in tqdm(resume_df.iterrows(), total=len(resume_df)):\n",
    "    resume_id = row['ID']\n",
    "    resume_text = row['clean_resume']\n",
    "    category = row['Category']\n",
    "\n",
    "    # Get matching JDs for same category\n",
    "    jd_texts = jd_df[jd_df['category'] == category]['clean_jd'].tolist()\n",
    "    keyword_list = category_keywords.get(category, [])\n",
    "\n",
    "    if not jd_texts:\n",
    "        max_sim, avg_sim, keyword_score = 0, 0, 0\n",
    "    else:\n",
    "        max_sim, avg_sim = compute_semantic_similarity(resume_text, jd_texts)\n",
    "        keyword_score = compute_keyword_score(resume_text, keyword_list)\n",
    "\n",
    "    results.append({\n",
    "        'ID': resume_id,\n",
    "        'Category': category,\n",
    "        'Max_Similarity': max_sim,\n",
    "        'Avg_Similarity': avg_sim,\n",
    "        'Keyword_Score': keyword_score\n",
    "    })\n",
    "\n",
    "scores_df = pd.DataFrame(results)\n",
    "\n",
    "# Step 4: Normalize and label\n",
    "scaler = MinMaxScaler()\n",
    "scores_df[['Max_Similarity', 'Avg_Similarity', 'Keyword_Score']] = scaler.fit_transform(\n",
    "    scores_df[['Max_Similarity', 'Avg_Similarity', 'Keyword_Score']]\n",
    ")\n",
    "\n",
    "# Combine into final score (weights can be adjusted)\n",
    "scores_df['Final_Score'] = (\n",
    "    0.6 * scores_df['Max_Similarity'] +\n",
    "    0.2 * scores_df['Avg_Similarity'] +\n",
    "    0.2 * scores_df['Keyword_Score']\n",
    ")\n",
    "\n",
    "# Assign label based on score\n",
    "def assign_label(score):\n",
    "    if score >= 0.75:\n",
    "        return 'good'\n",
    "    elif score >= 0.5:\n",
    "        return 'average'\n",
    "    else:\n",
    "        return 'bad'\n",
    "\n",
    "scores_df['Label'] = scores_df['Final_Score'].apply(assign_label)\n",
    "\n",
    "# Merge back to resumes\n",
    "resume_labeled_df = resume_df.merge(scores_df[['ID', 'Final_Score', 'Label']], on='ID')\n",
    "\n",
    "# Preview result\n",
    "print(resume_labeled_df[['ID', 'Category', 'Final_Score', 'Label']].head())\n",
    "\n",
    "resume_labeled_df.to_csv('resume_labeled_df.csv', index = False)"
   ]
  },
  {
   "cell_type": "code",
   "execution_count": 19,
   "id": "f102bdd7",
   "metadata": {},
   "outputs": [
    {
     "data": {
      "text/html": [
       "<div>\n",
       "<style scoped>\n",
       "    .dataframe tbody tr th:only-of-type {\n",
       "        vertical-align: middle;\n",
       "    }\n",
       "\n",
       "    .dataframe tbody tr th {\n",
       "        vertical-align: top;\n",
       "    }\n",
       "\n",
       "    .dataframe thead th {\n",
       "        text-align: right;\n",
       "    }\n",
       "</style>\n",
       "<table border=\"1\" class=\"dataframe\">\n",
       "  <thead>\n",
       "    <tr style=\"text-align: right;\">\n",
       "      <th></th>\n",
       "      <th>ID</th>\n",
       "      <th>Resume_str</th>\n",
       "      <th>Resume_html</th>\n",
       "      <th>Category</th>\n",
       "      <th>clean_resume</th>\n",
       "      <th>Final_Score</th>\n",
       "      <th>Label</th>\n",
       "    </tr>\n",
       "  </thead>\n",
       "  <tbody>\n",
       "    <tr>\n",
       "      <th>0</th>\n",
       "      <td>36856210</td>\n",
       "      <td>INFORMATION TECHNOLOGY         Summar...</td>\n",
       "      <td>&lt;div class=\"fontsize fontface vmargins hmargin...</td>\n",
       "      <td>information-technology</td>\n",
       "      <td>information technology summary dedicated infor...</td>\n",
       "      <td>0.784677</td>\n",
       "      <td>good</td>\n",
       "    </tr>\n",
       "    <tr>\n",
       "      <th>1</th>\n",
       "      <td>21780877</td>\n",
       "      <td>INFORMATION TECHNOLOGY SPECIALIST\\tGS...</td>\n",
       "      <td>&lt;div class=\"fontsize fontface vmargins hmargin...</td>\n",
       "      <td>information-technology</td>\n",
       "      <td>information technology specialist experience c...</td>\n",
       "      <td>0.726071</td>\n",
       "      <td>average</td>\n",
       "    </tr>\n",
       "    <tr>\n",
       "      <th>2</th>\n",
       "      <td>33241454</td>\n",
       "      <td>INFORMATION TECHNOLOGY SUPERVISOR    ...</td>\n",
       "      <td>&lt;div class=\"fontsize fontface vmargins hmargin...</td>\n",
       "      <td>information-technology</td>\n",
       "      <td>information technology supervisor summary seek...</td>\n",
       "      <td>0.712692</td>\n",
       "      <td>average</td>\n",
       "    </tr>\n",
       "    <tr>\n",
       "      <th>3</th>\n",
       "      <td>25990239</td>\n",
       "      <td>INFORMATION TECHNOLOGY INSTRUCTOR    ...</td>\n",
       "      <td>&lt;div class=\"fontsize fontface vmargins hmargin...</td>\n",
       "      <td>information-technology</td>\n",
       "      <td>information technology instructor summary seve...</td>\n",
       "      <td>0.471942</td>\n",
       "      <td>bad</td>\n",
       "    </tr>\n",
       "    <tr>\n",
       "      <th>4</th>\n",
       "      <td>16899268</td>\n",
       "      <td>INFORMATION TECHNOLOGY MANAGER/ANALYS...</td>\n",
       "      <td>&lt;div class=\"fontsize fontface vmargins hmargin...</td>\n",
       "      <td>information-technology</td>\n",
       "      <td>information technology manageranalyst professi...</td>\n",
       "      <td>0.659699</td>\n",
       "      <td>average</td>\n",
       "    </tr>\n",
       "  </tbody>\n",
       "</table>\n",
       "</div>"
      ],
      "text/plain": [
       "         ID                                         Resume_str  \\\n",
       "0  36856210           INFORMATION TECHNOLOGY         Summar...   \n",
       "1  21780877           INFORMATION TECHNOLOGY SPECIALIST\\tGS...   \n",
       "2  33241454           INFORMATION TECHNOLOGY SUPERVISOR    ...   \n",
       "3  25990239           INFORMATION TECHNOLOGY INSTRUCTOR    ...   \n",
       "4  16899268           INFORMATION TECHNOLOGY MANAGER/ANALYS...   \n",
       "\n",
       "                                         Resume_html                Category  \\\n",
       "0  <div class=\"fontsize fontface vmargins hmargin...  information-technology   \n",
       "1  <div class=\"fontsize fontface vmargins hmargin...  information-technology   \n",
       "2  <div class=\"fontsize fontface vmargins hmargin...  information-technology   \n",
       "3  <div class=\"fontsize fontface vmargins hmargin...  information-technology   \n",
       "4  <div class=\"fontsize fontface vmargins hmargin...  information-technology   \n",
       "\n",
       "                                        clean_resume  Final_Score    Label  \n",
       "0  information technology summary dedicated infor...     0.784677     good  \n",
       "1  information technology specialist experience c...     0.726071  average  \n",
       "2  information technology supervisor summary seek...     0.712692  average  \n",
       "3  information technology instructor summary seve...     0.471942      bad  \n",
       "4  information technology manageranalyst professi...     0.659699  average  "
      ]
     },
     "execution_count": 19,
     "metadata": {},
     "output_type": "execute_result"
    }
   ],
   "source": [
    "resume_labeled_df.head(5)"
   ]
  }
 ],
 "metadata": {
  "kernelspec": {
   "display_name": "python310",
   "language": "python",
   "name": "python3"
  },
  "language_info": {
   "codemirror_mode": {
    "name": "ipython",
    "version": 3
   },
   "file_extension": ".py",
   "mimetype": "text/x-python",
   "name": "python",
   "nbconvert_exporter": "python",
   "pygments_lexer": "ipython3",
   "version": "3.10.15"
  }
 },
 "nbformat": 4,
 "nbformat_minor": 5
}
